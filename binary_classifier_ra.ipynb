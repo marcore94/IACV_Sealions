{
 "cells": [
  {
   "cell_type": "code",
   "execution_count": 1,
   "metadata": {},
   "outputs": [
    {
     "name": "stderr",
     "output_type": "stream",
     "text": [
      "c:\\users\\vincenzo\\appdata\\local\\programs\\python\\python35\\lib\\site-packages\\h5py\\__init__.py:36: FutureWarning: Conversion of the second argument of issubdtype from `float` to `np.floating` is deprecated. In future, it will be treated as `np.float64 == np.dtype(float).type`.\n",
      "  from ._conv import register_converters as _register_converters\n",
      "Using TensorFlow backend.\n"
     ]
    }
   ],
   "source": [
    "# Imports\n",
    "import gc\n",
    "import numpy as np\n",
    "import cv2\n",
    "import pandas as pd\n",
    "import random\n",
    "from keras.models import Sequential\n",
    "from keras.models import model_from_json\n",
    "import os\n",
    "import matplotlib.pyplot as plt\n",
    "import skimage.feature\n",
    "import keras\n",
    "from keras.layers import Dense, Dropout, Flatten, Convolution2D, MaxPooling2D\n",
    "from keras.preprocessing.image import ImageDataGenerator\n",
    "from keras.callbacks import LearningRateScheduler\n",
    "from keras.utils.training_utils import multi_gpu_model\n",
    "from keras.optimizers import Adam\n",
    "from sklearn.metrics import roc_auc_score\n",
    "from sklearn.model_selection import train_test_split\n",
    "from sklearn.preprocessing import LabelBinarizer\n",
    "import keras\n",
    "from keras.models import Sequential, load_model\n",
    "from keras.layers import Dense, Dropout, Activation, Flatten, Conv2D, MaxPooling2D, Lambda, Cropping2D\n",
    "from keras.utils import np_utils\n",
    "%matplotlib inline"
   ]
  },
  {
   "cell_type": "code",
   "execution_count": 2,
   "metadata": {},
   "outputs": [],
   "source": [
    "# We define in advance constants to build the model\n",
    "\n",
    "INPUT_SHAPE = (96, 96, 3)\n",
    "OUTPUT_SIZE = 2\n",
    "\n",
    "LEARNING_RATE = 0.0001\n",
    "OPTIMIZER = keras.optimizers.Adam()\n",
    "LOSS = 'binary_crossentropy'\n",
    "METRIC = 'accuracy'\n",
    "\n",
    "EPOCHS = 20\n",
    "VALIDATION_SPLIT = 0.2\n",
    "BATCH_SIZE = 50\n",
    "\n",
    "MODEL_PATH = \"./binary_classifier/net_0_model.json\"\n",
    "WEIGHTS_PATH = \"./binary_classifier/net_0_weights.h5\""
   ]
  },
  {
   "cell_type": "code",
   "execution_count": 3,
   "metadata": {},
   "outputs": [],
   "source": [
    "# Use a random seed\n",
    "random.seed(42)"
   ]
  },
  {
   "cell_type": "code",
   "execution_count": 4,
   "metadata": {},
   "outputs": [],
   "source": [
    "# Load patches for sea lions\n",
    "def extract_patches(path, size, label):\n",
    "    data_set = []\n",
    "    for file in range(0, size):\n",
    "        patch = cv2.imread(\"./patches/\" + path + \"/\" + str(file) + \".jpg\")\n",
    "        data_set.append(list((patch, label)))\n",
    "    return data_set"
   ]
  },
  {
   "cell_type": "code",
   "execution_count": 5,
   "metadata": {},
   "outputs": [],
   "source": [
    "# Extract train patches\n",
    "data_set_sea_lions_train = extract_patches(\"sealions_train\", 62652, \"sea lion\")\n",
    "data_set_background_train = extract_patches(\"background_train\", 62652, \"background\")"
   ]
  },
  {
   "cell_type": "code",
   "execution_count": 6,
   "metadata": {},
   "outputs": [],
   "source": [
    "# Build train set\n",
    "train_set = data_set_sea_lions_train + data_set_background_train\n",
    "random.shuffle(train_set)\n",
    "X_train = []\n",
    "Y_train = []\n",
    "for data in train_set:\n",
    "    X_train.append(data[0])\n",
    "    if data[1] == \"sea lion\":\n",
    "        Y_train.append([1, 0])\n",
    "    elif data[1] == \"background\":\n",
    "        Y_train.append([0, 1])\n",
    "X_train = np.array(X_train, copy=False)\n",
    "Y_train = np.array(Y_train, copy=False)\n",
    "\n",
    "# Free memory\n",
    "data_set_sea_lions_train = []\n",
    "data_set_background_train = []\n",
    "train_set = []\n",
    "gc.collect()\n",
    "\n",
    "# Convert data types and normalize values\n",
    "X_train = X_train.astype('float32')\n",
    "X_train /= 255"
   ]
  },
  {
   "cell_type": "code",
   "execution_count": 7,
   "metadata": {},
   "outputs": [],
   "source": [
    "# Build parallel model (multi gpu)\n",
    "\n",
    "model = Sequential()\n",
    "# First layer\n",
    "model.add(Convolution2D(8, (5, 5), activation='relu', padding='valid', input_shape=INPUT_SHAPE))\n",
    "model.add(MaxPooling2D(pool_size=(2, 2)))\n",
    "model.add(Dropout(0.25))\n",
    "\n",
    "# Second layer\n",
    "model.add(Convolution2D(5, (3, 3), activation='relu', padding='valid'))\n",
    "model.add(MaxPooling2D(pool_size=(2, 2)))\n",
    "model.add(Dropout(0.25))\n",
    "\n",
    "# Third layer\n",
    "model.add(Convolution2D(5, (3, 3), activation='relu', padding='valid'))\n",
    "model.add(MaxPooling2D(pool_size=(2, 2)))\n",
    "model.add(Dropout(0.25))\n",
    "\n",
    "# Fourth layer\n",
    "model.add(Convolution2D(10, (3, 3), activation='relu', padding='valid'))\n",
    "model.add(MaxPooling2D(pool_size=(2, 2)))\n",
    "# model.add(Dropout(0.25))\n",
    "\n",
    "model.add(Flatten())\n",
    "\n",
    "model.add(Dropout(0.5))\n",
    "model.add(Dense(OUTPUT_SIZE, activation='softmax'))\n",
    "\n",
    "parallel_model = multi_gpu_model(model, gpus=2)\n",
    "parallel_model.compile(loss=LOSS, optimizer=OPTIMIZER, metrics=[METRIC])"
   ]
  },
  {
   "cell_type": "code",
   "execution_count": 8,
   "metadata": {},
   "outputs": [
    {
     "name": "stdout",
     "output_type": "stream",
     "text": [
      "Train on 100243 samples, validate on 25061 samples\n",
      "Epoch 1/20\n",
      "100243/100243 [==============================] - 82s 818us/step - loss: 0.3183 - acc: 0.8662 - val_loss: 0.3592 - val_acc: 0.8529\n",
      "Epoch 2/20\n",
      "100243/100243 [==============================] - 63s 628us/step - loss: 0.2357 - acc: 0.9109 - val_loss: 0.3654 - val_acc: 0.8280\n",
      "Epoch 3/20\n",
      "100243/100243 [==============================] - 61s 604us/step - loss: 0.2195 - acc: 0.9192 - val_loss: 0.4503 - val_acc: 0.7109\n",
      "Epoch 4/20\n",
      "100243/100243 [==============================] - 61s 608us/step - loss: 0.2076 - acc: 0.9242 - val_loss: 0.3131 - val_acc: 0.8554\n",
      "Epoch 5/20\n",
      "100243/100243 [==============================] - 62s 623us/step - loss: 0.2011 - acc: 0.9283 - val_loss: 0.3642 - val_acc: 0.8124\n",
      "Epoch 6/20\n",
      "100243/100243 [==============================] - 61s 608us/step - loss: 0.1970 - acc: 0.9281 - val_loss: 0.3139 - val_acc: 0.8489\n",
      "Epoch 7/20\n",
      "100243/100243 [==============================] - 61s 607us/step - loss: 0.1924 - acc: 0.9306 - val_loss: 0.3340 - val_acc: 0.8312\n",
      "Epoch 8/20\n",
      "100243/100243 [==============================] - 60s 602us/step - loss: 0.1899 - acc: 0.9315 - val_loss: 0.2991 - val_acc: 0.8590\n",
      "Epoch 9/20\n",
      "100243/100243 [==============================] - 62s 615us/step - loss: 0.1913 - acc: 0.9312 - val_loss: 0.3298 - val_acc: 0.8369\n",
      "Epoch 10/20\n",
      "100243/100243 [==============================] - 61s 605us/step - loss: 0.1881 - acc: 0.9320 - val_loss: 0.4407 - val_acc: 0.7481\n",
      "Epoch 11/20\n",
      "100243/100243 [==============================] - 62s 622us/step - loss: 0.1878 - acc: 0.9324 - val_loss: 0.3781 - val_acc: 0.7951\n",
      "Epoch 12/20\n",
      "100243/100243 [==============================] - 61s 607us/step - loss: 0.1855 - acc: 0.9333 - val_loss: 0.3663 - val_acc: 0.8073\n",
      "Epoch 13/20\n",
      "100243/100243 [==============================] - 61s 607us/step - loss: 0.1855 - acc: 0.9336 - val_loss: 0.2981 - val_acc: 0.8632\n",
      "Epoch 14/20\n",
      "100243/100243 [==============================] - 61s 608us/step - loss: 0.1861 - acc: 0.9329 - val_loss: 0.2896 - val_acc: 0.8676\n",
      "Epoch 15/20\n",
      "100243/100243 [==============================] - 60s 599us/step - loss: 0.1850 - acc: 0.9335 - val_loss: 0.3685 - val_acc: 0.8062\n",
      "Epoch 16/20\n",
      "100243/100243 [==============================] - 61s 610us/step - loss: 0.1823 - acc: 0.9342 - val_loss: 0.4551 - val_acc: 0.7402\n",
      "Epoch 17/20\n",
      "100243/100243 [==============================] - 61s 604us/step - loss: 0.1821 - acc: 0.9345 - val_loss: 0.3478 - val_acc: 0.8228\n",
      "Epoch 18/20\n",
      "100243/100243 [==============================] - 61s 607us/step - loss: 0.1825 - acc: 0.9345 - val_loss: 0.4879 - val_acc: 0.7335\n",
      "Epoch 19/20\n",
      "100243/100243 [==============================] - 58s 582us/step - loss: 0.1817 - acc: 0.9343 - val_loss: 0.4120 - val_acc: 0.7752\n",
      "Epoch 20/20\n",
      "100243/100243 [==============================] - 59s 585us/step - loss: 0.1837 - acc: 0.9340 - val_loss: 0.4288 - val_acc: 0.7606\n"
     ]
    }
   ],
   "source": [
    "# Train (multi gpu)\n",
    "\n",
    "# Fit model on training data\n",
    "history = parallel_model.fit(X_train, Y_train, batch_size=BATCH_SIZE, epochs=EPOCHS, validation_split=VALIDATION_SPLIT, verbose=1)\n"
   ]
  },
  {
   "cell_type": "code",
   "execution_count": 9,
   "metadata": {},
   "outputs": [
    {
     "data": {
      "image/png": "[encoded data removed]",
      "text/plain": [
       "<matplotlib.figure.Figure at 0x268ad289908>"
      ]
     },
     "metadata": {},
     "output_type": "display_data"
    },
    {
     "data": {
      "image/png": "[encoded data removed]",
      "text/plain": [
       "<matplotlib.figure.Figure at 0x268adc355f8>"
      ]
     },
     "metadata": {},
     "output_type": "display_data"
    }
   ],
   "source": [
    "plt.plot(history.history['acc'])\n",
    "plt.plot(history.history['val_acc'])\n",
    "plt.title('model accuracy')\n",
    "plt.ylabel('accuracy')\n",
    "plt.xlabel('epoch')\n",
    "plt.legend(['train', 'validation'], loc='upper left')\n",
    "plt.show()\n",
    "# summarize history for loss\n",
    "plt.plot(history.history['loss'])\n",
    "plt.plot(history.history['val_loss'])\n",
    "plt.title('model loss')\n",
    "plt.ylabel('loss')\n",
    "plt.xlabel('epoch')\n",
    "plt.legend(['train', 'validation'], loc='upper left')\n",
    "plt.show()"
   ]
  },
  {
   "cell_type": "code",
   "execution_count": 10,
   "metadata": {},
   "outputs": [
    {
     "data": {
      "text/plain": [
       "11970"
      ]
     },
     "execution_count": 10,
     "metadata": {},
     "output_type": "execute_result"
    }
   ],
   "source": [
    "# Save trained model (multi gpu)\n",
    "\n",
    "# serialize model to JSON\n",
    "# model_json = parallel_model.to_json()\n",
    "# with open(MODEL_PATH, \"w\") as json_file:\n",
    "#     json_file.write(model_json)\n",
    "# serialize weights to HDF5\n",
    "parallel_model.save_weights(WEIGHTS_PATH)\n",
    "\n",
    "# Free memory\n",
    "X_train = []\n",
    "Y_train = []\n",
    "gc.collect()"
   ]
  },
  {
   "cell_type": "code",
   "execution_count": 10,
   "metadata": {},
   "outputs": [],
   "source": [
    "# Extract test patches\n",
    "\n",
    "data_set_sea_lions_test = extract_patches(\"sealions_test\", 17634, \"sea lion\")\n",
    "data_set_background_test = extract_patches(\"background_test\", 17634, \"background\")"
   ]
  },
  {
   "cell_type": "code",
   "execution_count": 11,
   "metadata": {},
   "outputs": [],
   "source": [
    "# Build test set\n",
    "test_set = data_set_sea_lions_test + data_set_background_test\n",
    "random.shuffle(test_set)\n",
    "X_test = []\n",
    "Y_test = []\n",
    "for data in test_set:\n",
    "    X_test.append(data[0])\n",
    "    if data[1] == \"sea lion\":\n",
    "        Y_test.append([1, 0])\n",
    "    elif data[1] == \"background\":\n",
    "        Y_test.append([0, 1])\n",
    "X_test = np.array(X_test, copy=False)\n",
    "Y_test = np.array(Y_test, copy=False)\n",
    "\n",
    "# Free memory\n",
    "data_set_sea_lions_test = []\n",
    "data_set_background_test = []\n",
    "test_set = []\n",
    "gc.collect()\n",
    "\n",
    "# Convert data types and normalize values\n",
    "X_test = X_test.astype('float32')\n",
    "X_test /= 255"
   ]
  },
  {
   "cell_type": "code",
   "execution_count": 12,
   "metadata": {},
   "outputs": [
    {
     "name": "stdout",
     "output_type": "stream",
     "text": [
      "35268/35268 [==============================] - 10s 273us/step\n",
      "acc: 88.67%\n"
     ]
    }
   ],
   "source": [
    "# Test (multi gpu)\n",
    "\n",
    "# Evaluate model on test data\n",
    "loss_and_metrics = parallel_model.evaluate(X_test, Y_test, batch_size=BATCH_SIZE, verbose=1)\n",
    "\n",
    "print(\"%s: %.2f%%\" % (parallel_model.metrics_names[1], loss_and_metrics[1]*100))"
   ]
  },
  {
   "cell_type": "code",
   "execution_count": 13,
   "metadata": {},
   "outputs": [
    {
     "data": {
      "text/plain": [
       "0.9797711937301261"
      ]
     },
     "execution_count": 13,
     "metadata": {},
     "output_type": "execute_result"
    }
   ],
   "source": [
    "# Evaluate ROC and AUC\n",
    "\n",
    "Y_pred = parallel_model.predict(X_test)\n",
    "roc_auc_score(Y_test, Y_pred)"
   ]
  },
  {
   "cell_type": "code",
   "execution_count": 14,
   "metadata": {},
   "outputs": [],
   "source": [
    "# Free memory\n",
    "X_test = []\n",
    "Y_test = []\n",
    "gc.collect()"
   ]
  }
 ],
 "metadata": {
  "kernelspec": {
   "display_name": "Python 3",
   "language": "python",
   "name": "python3"
  },
  "language_info": {
   "codemirror_mode": {
    "name": "ipython",
    "version": 3
   },
   "file_extension": ".py",
   "mimetype": "text/x-python",
   "name": "python",
   "nbconvert_exporter": "python",
   "pygments_lexer": "ipython3",
   "version": "3.5.3rc1"
  }
 },
 "nbformat": 4,
 "nbformat_minor": 1
}
