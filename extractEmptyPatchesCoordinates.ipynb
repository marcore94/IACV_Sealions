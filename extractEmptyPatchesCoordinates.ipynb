{
 "cells": [
  {
   "cell_type": "code",
   "execution_count": 23,
   "metadata": {},
   "outputs": [],
   "source": [
    "import numpy as np\n",
    "import random\n",
    "import pandas as pd\n",
    "import cv2"
   ]
  },
  {
   "cell_type": "code",
   "execution_count": 24,
   "metadata": {},
   "outputs": [],
   "source": [
    "# Define empty patches set\n",
    "empty = []"
   ]
  },
  {
   "cell_type": "code",
   "execution_count": 25,
   "metadata": {},
   "outputs": [],
   "source": [
    "# Read file with sea lions patches coordinates\n",
    "sealions_df = pd.read_csv('./sealions.csv')\n",
    "file_names = sealions_df.filename.unique()"
   ]
  },
  {
   "cell_type": "code",
   "execution_count": 26,
   "metadata": {},
   "outputs": [],
   "source": [
    "# Loop on each file\n",
    "for file in file_names:\n",
    "    # Select rows from data frame with same name file\n",
    "    df = sealions_df[sealions_df['filename'] == file]\n",
    "    # Get image size\n",
    "    image = cv2.imread(\"./kaggle_sea_lions/Train/\" + file)\n",
    "    IM_SIZE_Y, IM_SIZE_X, _ = image.shape\n",
    "    # Create array for coordinates to exclude\n",
    "    exclude = []\n",
    "    # Create array for empty patches\n",
    "    empty_patches_coord = []\n",
    "    # Loop on each row of the specified file\n",
    "    for row in df.iterrows():\n",
    "        # Select coordinates for patches where sea lions are present\n",
    "        p_1 = ((((int(row[1]['coord_x']) + 48) // 96) * 96) + 48, (((int(row[1]['coord_y']) + 48) // 96) * 96) + 48)\n",
    "        p_2 = ((((int(row[1]['coord_x']) + 48) // 96) * 96) + 48, (((int(row[1]['coord_y']) - 48) // 96) * 96) + 48)\n",
    "        p_3 = ((((int(row[1]['coord_x']) - 48) // 96) * 96) + 48, (((int(row[1]['coord_y']) + 48) // 96) * 96) + 48)\n",
    "        p_4 = ((((int(row[1]['coord_x']) - 48) // 96) * 96) + 48, (((int(row[1]['coord_y']) - 48) // 96) * 96) + 48)\n",
    "        # Add coordinates to list\n",
    "        exclude.append(p_1)\n",
    "        exclude.append(p_2)\n",
    "        exclude.append(p_3)\n",
    "        exclude.append(p_4)\n",
    "    # Generate coordinates of all square patches 96x96 such that they don't intersect between themselves\n",
    "    for i in range(48, IM_SIZE_X - 48, 96):\n",
    "        for j in range(48, IM_SIZE_Y - 48, 96):\n",
    "            empty_patches_coord.append((i,j))\n",
    "    # Keep patches that does not contain sea lions with sets difference\n",
    "    empty_patches_coord = list(set(empty_patches_coord) - set(exclude))\n",
    "    for coord in empty_patches_coord:\n",
    "        empty.append(list((int(coord[0]), int(coord[1]), file)))"
   ]
  },
  {
   "cell_type": "code",
   "execution_count": 27,
   "metadata": {},
   "outputs": [],
   "source": [
    "# Take a number of empty patches equal to the number of sea lions\n",
    "n = len(sealions_df.index)\n",
    "empty = random.sample(empty, n)"
   ]
  },
  {
   "cell_type": "code",
   "execution_count": 28,
   "metadata": {},
   "outputs": [],
   "source": [
    "empty_df = pd.DataFrame(data=empty, columns=[\"coord_x\", \"coord_y\", \"filename\"])\n",
    "empty_df.to_csv('./empty.csv', index=False)"
   ]
  },
  {
   "cell_type": "code",
   "execution_count": null,
   "metadata": {},
   "outputs": [],
   "source": []
  }
 ],
 "metadata": {
  "kernelspec": {
   "display_name": "Python 3",
   "language": "python",
   "name": "python3"
  },
  "language_info": {
   "codemirror_mode": {
    "name": "ipython",
    "version": 3
   },
   "file_extension": ".py",
   "mimetype": "text/x-python",
   "name": "python",
   "nbconvert_exporter": "python",
   "pygments_lexer": "ipython3",
   "version": "3.5.2"
  }
 },
 "nbformat": 4,
 "nbformat_minor": 1
}
